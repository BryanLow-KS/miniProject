{
 "cells": [
  {
   "cell_type": "markdown",
   "metadata": {},
   "source": [
    "## Learning outcomes\n",
    "\n",
    "1. Load, save and show images\n",
    "2. Load, show and save videos\n",
    "3. Image resizing\n"
   ]
  },
  {
   "cell_type": "markdown",
   "metadata": {},
   "source": [
    "## Why OpenCV? \n",
    "-compatible with multiple major OS, like Windows, Linux, and even MacOS. \n",
    "Written in different languages like PYthon and C++ and Java\n",
    "-Interoperable with Numpy module, thereby enable fast computation of image array\n",
    "-There are a lot of useful resources online like articles and stack overflow posts. Large community support. "
   ]
  },
  {
   "cell_type": "markdown",
   "metadata": {},
   "source": [
    "## Types of image files (formats) \n",
    "- JPEG (.jpg, .jpeg, .jfif)\n",
    " * used in photos stored in camera or mobile phone \n",
    "- PNG (.png)\n",
    " * lossless compression, used in webpage and file transfer \n",
    "- webp (.webp) \n",
    " * introduced in 2015 by Google. Smaller file size compared to JPG and PNG -> more efficient in file transfer\n",
    "-tiff (.tif) \n",
    " * printing (high-quality), large file size\n",
    "-bitmap (.bmp) \n",
    " * multipurpose but large file size \n",
    "-gif (.gif) \n",
    " * animation (OpenCV cant handle GIF file) "
   ]
  },
  {
   "cell_type": "markdown",
   "metadata": {},
   "source": [
    "## Setup"
   ]
  },
  {
   "cell_type": "code",
   "execution_count": 7,
   "metadata": {},
   "outputs": [],
   "source": [
    "import sys\n",
    "# at least python 3.7\n",
    "assert sys.version_info >= (3, 7)\n",
    "\n",
    "import numpy as np\n",
    "import cv2 as cv\n"
   ]
  },
  {
   "cell_type": "code",
   "execution_count": 8,
   "metadata": {},
   "outputs": [
    {
     "name": "stdout",
     "output_type": "stream",
     "text": [
      "4.6.0\n"
     ]
    }
   ],
   "source": [
    "print(cv.__version__)"
   ]
  },
  {
   "cell_type": "markdown",
   "metadata": {},
   "source": [
    "## Load and show images"
   ]
  },
  {
   "cell_type": "code",
   "execution_count": 4,
   "metadata": {},
   "outputs": [],
   "source": [
    "img = cv.imread('images/lena.jfif')\n",
    "grayscale = cv.imread('images/lena.jfif', 0)\n",
    "#second argument: flags, 1 (default): color image, 0 (grayscale), -1: cv.IMREAD_UNCHANGED\n",
    "\n",
    "cv.imshow('lena_color', img)\n",
    "cv.imshow('grayscale', grayscale)\n",
    "cv.waitKey(0) #keybinding function: wait for user response\n",
    "cv.destroyAllWindows()"
   ]
  },
  {
   "cell_type": "code",
   "execution_count": 3,
   "metadata": {},
   "outputs": [],
   "source": [
    "def show_img(window_name, img): \n",
    "    \"\"\"2 arguments: window name and image\"\"\"\n",
    "    cv.imshow(window_name, img)\n",
    "    cv.waitKey(0)\n",
    "    cv.destroyAllWindows()"
   ]
  },
  {
   "cell_type": "code",
   "execution_count": 6,
   "metadata": {},
   "outputs": [],
   "source": [
    "img = cv.imread('images/lena.png')\n",
    "\n",
    "show_img('png image', img)"
   ]
  },
  {
   "cell_type": "code",
   "execution_count": 7,
   "metadata": {},
   "outputs": [
    {
     "name": "stdout",
     "output_type": "stream",
     "text": [
      "The shape of png image: (225, 225, 4)\n",
      "The shape of jpeg image: (225, 225, 3)\n"
     ]
    }
   ],
   "source": [
    "# show the differences between png and jpeg\n",
    "\n",
    "img_png = cv.imread(\"images/lena.png\", -1)\n",
    "img_jpeg = cv.imread(\"images/lena.jfif\", -1)\n",
    "\n",
    "print(f\"The shape of png image: {img_png.shape}\")\n",
    "print(f\"The shape of jpeg image: {img_jpeg.shape}\")"
   ]
  },
  {
   "cell_type": "markdown",
   "metadata": {},
   "source": [
    "## GIF problem"
   ]
  },
  {
   "cell_type": "code",
   "execution_count": 8,
   "metadata": {},
   "outputs": [
    {
     "name": "stdout",
     "output_type": "stream",
     "text": [
      "Requirement already satisfied: imageio in c:\\users\\fict\\appdata\\local\\programs\\python\\python310\\lib\\site-packages (2.31.1)\n",
      "Requirement already satisfied: numpy in c:\\users\\fict\\appdata\\local\\programs\\python\\python310\\lib\\site-packages (from imageio) (1.22.4)\n",
      "Requirement already satisfied: pillow>=8.3.2 in c:\\users\\fict\\appdata\\local\\programs\\python\\python310\\lib\\site-packages (from imageio) (9.5.0)\n"
     ]
    }
   ],
   "source": [
    "!pip install imageio"
   ]
  },
  {
   "cell_type": "code",
   "execution_count": 9,
   "metadata": {},
   "outputs": [],
   "source": [
    "import imageio "
   ]
  },
  {
   "cell_type": "code",
   "execution_count": 10,
   "metadata": {},
   "outputs": [],
   "source": [
    "GIF = imageio.mimread(\"images/rotating_earth_large.gif\")\n",
    "# convert RGB to BGR\n",
    "imgs = [cv.cvtColor(img, cv.COLOR_RGB2BGR) for img in GIF]\n",
    "\n",
    "for img in imgs: \n",
    "    cv.imshow(\"GIF\", img)\n",
    "    cv.waitKey(200) #wait for 0.2 second user input\n",
    "    \n",
    "cv.destroyAllWindows()"
   ]
  },
  {
   "cell_type": "markdown",
   "metadata": {},
   "source": [
    "## save images\n",
    "'''\n",
    "cv.imwrite(filepath, img\n",
    "'''"
   ]
  },
  {
   "cell_type": "code",
   "execution_count": 13,
   "metadata": {},
   "outputs": [],
   "source": [
    "#formalized way to load, show and save images\n",
    "img = cv.imread(\"images/lena.jfif\")\n",
    "\n",
    "cv.imshow('lena', img)\n",
    "k = cv.waitKey(0) & 0xFF\n",
    "if k == ord(\"s\"): #press 's' key\n",
    "    cv.imwrite('lena_save.jpg', img)\n",
    "    \n",
    "cv.destroyAllWindows()"
   ]
  },
  {
   "cell_type": "code",
   "execution_count": 16,
   "metadata": {},
   "outputs": [],
   "source": [
    "# img = cv.imread(cv.samples.findFile(\"images/lena.jfif\"))\n",
    "\n",
    "# if img is None: \n",
    "#     sys.exit(\"No such file!\")"
   ]
  },
  {
   "cell_type": "markdown",
   "metadata": {},
   "source": [
    "## Video operations\n",
    "Load and show videos"
   ]
  },
  {
   "cell_type": "code",
   "execution_count": 22,
   "metadata": {},
   "outputs": [],
   "source": [
    "#Create a VideoCapture object\n",
    "cap = cv.VideoCapture('videos/img_pexels.mp4')\n",
    "\n",
    "# Check if the object has been created successfully\n",
    "if not cap.isOpened():\n",
    "    raise Exception(\"No video detected\")\n",
    "    \n",
    "# Read the frames with loop\n",
    "while cap.isOpened():\n",
    "    ret, frame = cap.read()\n",
    "    \n",
    "    if not ret:\n",
    "        print(\"Can't receive frame\")\n",
    "        break\n",
    "        \n",
    "    cv.namedWindow(\"frame\", cv.WINDOW_NORMAL)\n",
    "    cv.imshow('frame', frame)\n",
    "    # Press Esc key to exit (27 is ASCII code for Esc). cv.waitKey() returns 32 bit integer values. You can find the ASCII table\n",
    "    # on this URL: https://theasciicode.com.ar/\n",
    "    if cv.waitKey(1) & 0xFF == 27:\n",
    "        break\n",
    "        \n",
    "cap.release()\n",
    "cv.destroyAllWindows()"
   ]
  },
  {
   "cell_type": "markdown",
   "metadata": {},
   "source": [
    "## webcam \n",
    "show webcam recording and save"
   ]
  },
  {
   "cell_type": "code",
   "execution_count": 10,
   "metadata": {},
   "outputs": [],
   "source": [
    "cap = cv.VideoCapture(0)\n",
    "if not cap.isOpened(): \n",
    "    sys.exit('no webcam detected!')\n",
    "    \n",
    "#object that can handle save videls\n",
    "#arguments: filepath, fourcc, fps, width and height\n",
    "\n",
    "fps = 15\n",
    "w,h = int(cap.get(3)), int(cap.get(4))\n",
    "fourcc = cv.VideoWriter_fourcc(\"M\", \"J\", \"P\", \"G\")\n",
    "out = cv.VideoWriter('videos/out.avi', fourcc, fps, (w,h))\n",
    "\n",
    "while cap.isOpened():\n",
    "    ret, frame = cap.read()\n",
    "    \n",
    "    if not ret:\n",
    "        print(\"Can't receive frame\")\n",
    "        break\n",
    "        \n",
    "    out.write(frame)\n",
    "        \n",
    "#     cv.namedWindow(\"frame\", cv.WINDOW_NORMAL)\n",
    "    cv.namedWindow(\"frame\")\n",
    "    cv.imshow('frame', frame)\n",
    "    # Press Esc key to exit (27 is ASCII code for Esc). cv.waitKey() returns 32 bit integer values. You can find the ASCII table\n",
    "    # on this URL: https://theasciicode.com.ar/\n",
    "    if cv.waitKey(1) & 0xFF == 27:\n",
    "        break\n",
    "\n",
    "cap.release()\n",
    "out.release()\n",
    "cv.destroyAllWindows()"
   ]
  },
  {
   "cell_type": "code",
   "execution_count": 41,
   "metadata": {},
   "outputs": [],
   "source": [
    "import time #try to find out fps of the camera/video"
   ]
  },
  {
   "cell_type": "code",
   "execution_count": 42,
   "metadata": {},
   "outputs": [],
   "source": [
    "#Create a VideoCapture object\n",
    "cap = cv.VideoCapture('videos/img_pexels.mp4')\n",
    "\n",
    "# Check if the object has been created successfully\n",
    "if not cap.isOpened():\n",
    "    raise Exception(\"No video detected\")\n",
    "    \n",
    "start = time.time()\n",
    "# Read the frames with loop\n",
    "while cap.isOpened():\n",
    "    ret, frame = cap.read()\n",
    "    \n",
    "    if not ret:\n",
    "        print(\"Can't receive frame\")\n",
    "        break\n",
    "        \n",
    "    cv.namedWindow(\"frame\", cv.WINDOW_NORMAL)\n",
    "    cv.imshow('frame', frame)\n",
    "    # Press Esc key to exit (27 is ASCII code for Esc). cv.waitKey() returns 32 bit integer values. You can find the ASCII table\n",
    "    # on this URL: https://theasciicode.com.ar/\n",
    "    if cv.waitKey(1) & 0xFF == 27:\n",
    "        break\n",
    "\n",
    "end = time.time()\n",
    "cap.release()\n",
    "cv.destroyAllWindows()"
   ]
  },
  {
   "cell_type": "code",
   "execution_count": 43,
   "metadata": {},
   "outputs": [
    {
     "name": "stdout",
     "output_type": "stream",
     "text": [
      "the fps if we play the video using software: 0.0\n",
      "the fps if we use OPENCV imshow: 0.0\n"
     ]
    }
   ],
   "source": [
    "print(f'the fps if we play the video using software: {cap.get(5)}')\n",
    "n_frames = cap.get(7)\n",
    "print(f\"the fps if we use OPENCV imshow: {n_frames/ (end - start)}\")"
   ]
  },
  {
   "cell_type": "markdown",
   "metadata": {},
   "source": [
    "## Image resizing\n",
    "1. Set arbitrary sizes (w,h) \n",
    "2. scale factor"
   ]
  },
  {
   "cell_type": "code",
   "execution_count": 32,
   "metadata": {},
   "outputs": [],
   "source": [
    "#1 method\n",
    "img = cv.imread(\"images/soccer.jpg\")\n",
    "\n",
    "#arguments: source image, tuple of new width and height, fx, fy, interpolation methods\n",
    "new_width = 300\n",
    "new_height = 450\n",
    "\n",
    "img_resize = cv.resize(img, (new_width, new_height))\n",
    "\n",
    "cv.imshow('img', img)\n",
    "show_img(\"resize\", img_resize)"
   ]
  },
  {
   "cell_type": "code",
   "execution_count": 33,
   "metadata": {},
   "outputs": [
    {
     "data": {
      "text/plain": [
       "(1200, 800, 3)"
      ]
     },
     "execution_count": 33,
     "metadata": {},
     "output_type": "execute_result"
    }
   ],
   "source": [
    "img.shape"
   ]
  },
  {
   "cell_type": "code",
   "execution_count": 34,
   "metadata": {},
   "outputs": [
    {
     "data": {
      "text/plain": [
       "(450, 300, 3)"
      ]
     },
     "execution_count": 34,
     "metadata": {},
     "output_type": "execute_result"
    }
   ],
   "source": [
    "img_resize.shape"
   ]
  },
  {
   "cell_type": "code",
   "execution_count": 40,
   "metadata": {},
   "outputs": [],
   "source": [
    "# 2 method\n",
    "img = cv.imread('images/lena.jfif')\n",
    "factor = 1.3\n",
    "img_resize = cv.resize(img, None, fx = factor, fy = factor)\n",
    "\n",
    "cv.imshow('images', img)\n",
    "show_img(f'resize with factor: {factor}', img_resize)"
   ]
  },
  {
   "cell_type": "markdown",
   "metadata": {},
   "source": [
    "## Exercises"
   ]
  },
  {
   "cell_type": "markdown",
   "metadata": {},
   "source": [
    "Q1. Load and display the image 'dog.jfif'. Save the image in png format."
   ]
  },
  {
   "cell_type": "code",
   "execution_count": 6,
   "metadata": {},
   "outputs": [
    {
     "data": {
      "text/plain": [
       "True"
      ]
     },
     "execution_count": 6,
     "metadata": {},
     "output_type": "execute_result"
    }
   ],
   "source": [
    "img = cv.imread('images/dog.jfif')\n",
    "\n",
    "show_img('doge', img)\n",
    "cv.imwrite('doge_save.png', img)"
   ]
  },
  {
   "cell_type": "markdown",
   "metadata": {},
   "source": [
    "Q2. Suggest 2 ways and write codes to display 2 images simultaneously. You can use any image snapped from your handphone, downloaded from internet or images from weekly materials on MS teams. The 2 images are original color image and its corresponding grayscale image."
   ]
  },
  {
   "cell_type": "code",
   "execution_count": 48,
   "metadata": {},
   "outputs": [],
   "source": [
    "#first way\n",
    "img = cv.imread(\"images/lena.jfif\")\n",
    "grayscale = cv.cvtColor(img, cv.COLOR_BGR2GRAY)\n",
    "\n",
    "cv.imshow('original', img)\n",
    "show_img('grayscale', grayscale)"
   ]
  },
  {
   "cell_type": "code",
   "execution_count": 49,
   "metadata": {},
   "outputs": [],
   "source": [
    "#second way, use matplotlib module\n",
    "import matplotlib.pyplot as plt\n"
   ]
  },
  {
   "cell_type": "code",
   "execution_count": 51,
   "metadata": {},
   "outputs": [
    {
     "data": {
      "image/png": "[encoded data removed]",
      "text/plain": [
       "<Figure size 432x288 with 2 Axes>"
      ]
     },
     "metadata": {},
     "output_type": "display_data"
    }
   ],
   "source": [
    "#change BGR2RGB\n",
    "img_rgb = cv.cvtColor(img, cv.COLOR_BGR2RGB)\n",
    "\n",
    "plt.subplot(121) #first figure\n",
    "plt.imshow(img_rgb)\n",
    "plt.xticks([]), plt.yticks([])\n",
    "plt.subplot(122) #second figure\n",
    "plt.imshow(grayscale, cmap = plt.cm.gray)\n",
    "plt.xticks([]), plt.yticks([])\n",
    "plt.suptitle('grayscale vs color')\n",
    "plt.show()"
   ]
  },
  {
   "cell_type": "markdown",
   "metadata": {},
   "source": [
    "Q3. Write codes that performs the following:\n",
    "- Load the video “img_pexels.mp4” into the Python environment, resize it and display the videos with smaller frames (The frames can be of any size, as long as it is smaller). You can specify an arbitrary frame rate.\n",
    "- Save it as a separate files: “smaller_img_pexels.avi” or \"smaller_img_pexels.mp4\""
   ]
  },
  {
   "cell_type": "code",
   "execution_count": 24,
   "metadata": {},
   "outputs": [],
   "source": [
    "# cap = cv.VideoCapture(0)\n",
    "cap = cv.VideoCapture('videos/img_pexels.mp4')\n",
    "if not cap.isOpened(): \n",
    "    sys.exit('no webcam detected!')\n",
    "    \n",
    "#object that can handle save videls\n",
    "#arguments: filepath, fourcc, fps, width and height\n",
    "\n",
    "fps = 15\n",
    "w,h = int(cap.get(3)), int(cap.get(4))\n",
    "fourcc = cv.VideoWriter_fourcc(\"M\", \"J\", \"P\", \"G\")\n",
    "# out = cv.VideoWriter('videos/out.avi', fourcc, fps, (w,h))\n",
    "out = cv.VideoWriter('videos/smaller_img_pexels.avi', fourcc, fps, (int(w/3),int(h/3)))\n",
    "\n",
    "while cap.isOpened():\n",
    "    ret, frame = cap.read()\n",
    "    \n",
    "    if not ret:\n",
    "        print(\"Can't receive frame\")\n",
    "        break\n",
    "    \n",
    "    frame = cv.resize(frame, (int(w/3),int(h/3)))\n",
    "    out.write(frame)\n",
    "        \n",
    "#     cv.namedWindow(\"frame\", cv.WINDOW_NORMAL)\n",
    "    cv.namedWindow(\"frame\")\n",
    "    cv.imshow('frame', frame)\n",
    "    # Press Esc key to exit (27 is ASCII code for Esc). cv.waitKey() returns 32 bit integer values. You can find the ASCII table\n",
    "    # on this URL: https://theasciicode.com.ar/\n",
    "    if cv.waitKey(1) & 0xFF == 27:\n",
    "        break\n",
    "\n",
    "cap.release()\n",
    "out.release()\n",
    "cv.destroyAllWindows()"
   ]
  },
  {
   "cell_type": "markdown",
   "metadata": {},
   "source": [
    "Q4. Enlarge the image \"dog.jfif\" by using different techniques: 1) Linear interpolation, 2) Cubic interpolation and 3) nearest neighbor interpolation. Comment on the upscaled of all the outputs."
   ]
  },
  {
   "cell_type": "code",
   "execution_count": 27,
   "metadata": {},
   "outputs": [],
   "source": [
    "# 1. Linear interpolation\n",
    "img = cv.imread('images/dog.jfif')\n",
    "img_enlarged = cv.resize(img, None, fx = 2, fy = 2, interpolation = cv.INTER_LINEAR)\n",
    "\n",
    "show_img('doge', img_enlarged)"
   ]
  },
  {
   "cell_type": "code",
   "execution_count": 28,
   "metadata": {},
   "outputs": [],
   "source": [
    "# 2. Cubic interpolation\n",
    "img = cv.imread('images/dog.jfif')\n",
    "img_enlarged = cv.resize(img, None, fx = 2, fy = 2, interpolation = cv.INTER_CUBIC)\n",
    "\n",
    "show_img('doge', img_enlarged)"
   ]
  },
  {
   "cell_type": "code",
   "execution_count": 29,
   "metadata": {},
   "outputs": [],
   "source": [
    "# 3. Nearest neighbor interpolation\n",
    "img = cv.imread('images/dog.jfif')\n",
    "img_enlarged = cv.resize(img, None, fx = 2, fy = 2, interpolation = cv.INTER_NEAREST)\n",
    "\n",
    "show_img('doge', img_enlarged)"
   ]
  }
 ],
 "metadata": {
  "kernelspec": {
   "display_name": "Python 3",
   "language": "python",
   "name": "python3"
  },
  "language_info": {
   "codemirror_mode": {
    "name": "ipython",
    "version": 3
   },
   "file_extension": ".py",
   "mimetype": "text/x-python",
   "name": "python",
   "nbconvert_exporter": "python",
   "pygments_lexer": "ipython3",
   "version": "3.8.3"
  }
 },
 "nbformat": 4,
 "nbformat_minor": 5
}
